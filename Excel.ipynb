{
 "cells": [
  {
   "cell_type": "code",
   "execution_count": 30,
   "id": "eb33bd96-ad2a-43f1-9e69-0cddbbb996fc",
   "metadata": {},
   "outputs": [],
   "source": [
    "import openpyxl"
   ]
  },
  {
   "cell_type": "code",
   "execution_count": 31,
   "id": "89f58990-b531-461a-a1ec-f5cc00af52b6",
   "metadata": {},
   "outputs": [],
   "source": [
    "def check_user_input_excel(file_path):\n",
    "    try:\n",
    "        # Load the workbook\n",
    "        wb = openpyxl.load_workbook(file_path, data_only=True)\n",
    "        sheet = wb.active\n",
    "        expected_values = [136563230.71295, 364856003.850416, 22611240.49525]\n",
    "\n",
    "        # Read values from specific cells\n",
    "        for i in range(0, 3):\n",
    "            ind = str(i + 14)\n",
    "            user_input = sheet['B' + ind].value\n",
    "            expected_value = expected_values[i]\n",
    "            \n",
    "            # Determine result\n",
    "            if user_input == expected_value:\n",
    "                result = '1'\n",
    "            else:\n",
    "                result = '0'\n",
    "            \n",
    "            # Write result to specific cell\n",
    "            sheet['C' + ind] = result\n",
    "        \n",
    "        # Save the workbook\n",
    "        wb.save(file_path)\n",
    "        print(f\"Result written in {file_path}\")\n",
    "        \n",
    "    except Exception as e:\n",
    "        print(f\"Error processing Excel file: {e}\")"
   ]
  },
  {
   "cell_type": "code",
   "execution_count": 32,
   "id": "46322c76-4746-4639-bf41-5a3802851eca",
   "metadata": {},
   "outputs": [
    {
     "name": "stdout",
     "output_type": "stream",
     "text": [
      "Result written in MAX - Planning Test.xlsx\n"
     ]
    }
   ],
   "source": [
    "# Main program\n",
    "if __name__ == \"__main__\":\n",
    "    file_path = \"MAX - Planning Test.xlsx\"\n",
    "    \n",
    "    check_user_input_excel(file_path)\n"
   ]
  },
  {
   "cell_type": "code",
   "execution_count": null,
   "id": "5e03d9a4-da52-4983-b313-82c98c780bfc",
   "metadata": {},
   "outputs": [],
   "source": []
  }
 ],
 "metadata": {
  "kernelspec": {
   "display_name": "Python 3 (ipykernel)",
   "language": "python",
   "name": "python3"
  },
  "language_info": {
   "codemirror_mode": {
    "name": "ipython",
    "version": 3
   },
   "file_extension": ".py",
   "mimetype": "text/x-python",
   "name": "python",
   "nbconvert_exporter": "python",
   "pygments_lexer": "ipython3",
   "version": "3.11.7"
  }
 },
 "nbformat": 4,
 "nbformat_minor": 5
}
